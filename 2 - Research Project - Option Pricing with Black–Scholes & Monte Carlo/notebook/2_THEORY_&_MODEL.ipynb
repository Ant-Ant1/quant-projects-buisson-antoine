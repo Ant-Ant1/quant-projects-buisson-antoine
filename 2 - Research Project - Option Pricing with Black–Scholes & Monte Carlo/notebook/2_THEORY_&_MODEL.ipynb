{
 "cells": [
  {
   "cell_type": "markdown",
   "id": "9ecf88d8",
   "metadata": {},
   "source": [
    "# II - Notebook : Théorie & Modèle\n",
    "\n",
    "## 2.1 - Option Pricing under the Black–Scholes Framework\n",
    "Ce notebook introduit les fondements théoriques nécessaires pour comprendre la valorisation d’options européennes.\n",
    "\n",
    "## 2.2 - Objectif\n",
    "Poser les bases mathématiques utilisées pour le pricing :\n",
    "- Décrire la **dynamique stochastique du sous-jacent** (mouvement brownien géométrique).  \n",
    "- Présenter les **formules analytiques de Black–Scholes** pour le Call et le Put européens.  \n",
    "- Introduire les **principaux Greeks** (Δ, ν, Θ) et leur interprétation qualitative.  \n",
    "- Lister les **hypothèses et limites** du modèle.\n",
    "\n",
    "## 2.3 - Dynamique du mouvement brownien géométrique (GBM)\n",
    "Le modèle suppose que le prix du sous-jacent \\( S_t \\) suit la dynamique suivante :\n",
    "\\[\n",
    "dS_t = \\mu S_t \\, dt + \\sigma S_t \\, dW_t\n",
    "\\]\n",
    "où :\n",
    "- \\( \\mu \\) est le **taux de rendement espéré** du sous-jacent,  \n",
    "- \\( \\sigma \\) est la **volatilité** (écart-type instantané),  \n",
    "- \\( dW_t \\) est l’incrément d’un **mouvement brownien standard**.\n",
    "\n",
    "\n",
    "## 2.4 -  Intuition\n",
    "- Le terme \\( \\mu S_t \\, dt \\) représente la **composante déterministe** (croissance moyenne).  \n",
    "- Le terme \\( \\sigma S_t \\, dW_t \\) capture la **composante aléatoire** (chocs de marché).  \n",
    "- La solution du processus est :\n",
    "\\[\n",
    "S_t = S_0 \\, e^{(\\mu - \\frac{1}{2}\\sigma^2)t + \\sigma W_t}\n",
    "\\]\n",
    "→ Les prix suivent une **loi log-normale**.\n",
    "\n"
   ]
  },
  {
   "cell_type": "markdown",
   "id": "4aae1610",
   "metadata": {},
   "source": [
    "## 2.4 - Formules de Black–Scholes pour Call et Put européens\n",
    "Sous l’hypothèse de marchés frictionless et de taux constants, les prix des options européennes sont :\n",
    "\\[\n",
    "\\begin{aligned}\n",
    "C &= S_0 \\, N(d_1) - K e^{-rT} N(d_2) \\\\\n",
    "P &= K e^{-rT} N(-d_2) - S_0 N(-d_1)\n",
    "\\end{aligned}\n",
    "\\]\n",
    "avec :\n",
    "\\[\n",
    "\\begin{aligned}\n",
    "d_1 &= \\frac{\\ln(\\frac{S_0}{K}) + (r + \\frac{1}{2}\\sigma^2)T}{\\sigma \\sqrt{T}} \\\\\n",
    "d_2 &= d_1 - \\sigma \\sqrt{T}\n",
    "\\end{aligned}\n",
    "\\]\n",
    "où :\n",
    "- \\( N(\\cdot) \\) = fonction de répartition de la loi normale standard,  \n",
    "- \\( r \\) = taux d’intérêt sans risque,  \n",
    "- \\( T \\) = temps jusqu’à maturité,  \n",
    "- \\( \\sigma \\) = volatilité constante.\n",
    "\n",
    "## 2.5 -  Interprétation des termes\n",
    "- \\( d_1 \\) représente la **distance normalisée** entre le prix spot et le strike, en tenant compte de la volatilité et du taux sans risque.  \n",
    "- \\( d_2 \\) correspond à la **probabilité ajustée par le risque** d’exercer l’option à maturité.\n"
   ]
  },
  {
   "cell_type": "markdown",
   "id": "baa1d788",
   "metadata": {},
   "source": [
    "## 2.6 -  Les Greeks (sensibilités du prix)\n",
    "\n",
    "Les Greeks mesurent la sensibilité du prix de l’option à divers paramètres du modèle.\n",
    "\n",
    "| Symbole | Nom | Définition | Interprétation qualitative |\n",
    "|----------|------|-------------|-----------------------------|\n",
    "| \\( \\Delta = \\frac{\\partial C}{\\partial S} \\) | **Delta** | Variation du prix de l’option par rapport au sous-jacent | Mesure la **sensibilité immédiate** du prix de l’option à un changement du sous-jacent. |\n",
    "| \\( \\nu = \\frac{\\partial C}{\\partial \\sigma} \\) | **Vega** | Variation du prix par rapport à la volatilité | Indique l’impact d’un changement de **volatilité implicite**. |\n",
    "| \\( \\Theta = \\frac{\\partial C}{\\partial T} \\) | **Theta** | Variation du prix par rapport au temps | Mesure la **décroissance temporelle** (valeur temps de l’option). |\n",
    "\n",
    "---\n",
    "\n",
    "## 2.7 - Intuition rapide\n",
    "- **Delta** → indique combien de sous-jacent il faut détenir pour répliquer l’option.  \n",
    "- **Vega** → montre comment le prix évolue si la volatilité implicite change.  \n",
    "- **Theta** → est généralement **négatif**, car la valeur temps diminue avec le temps.\n"
   ]
  },
  {
   "cell_type": "markdown",
   "id": "76f60502",
   "metadata": {},
   "source": [
    "## 2.8 -  Hypothèses et limites du modèle Black–Scholes\n",
    "\n",
    "| Hypothèse | Description | Implication / Limite |\n",
    "|------------|-------------|-----------------------|\n",
    "| Volatilité constante | \\( \\sigma \\) ne varie pas dans le temps | Peu réaliste : la volatilité observée varie selon les conditions de marché. |\n",
    "| Marchés frictionless | Pas de coûts de transaction, liquidité parfaite | Les coûts réels réduisent la précision de la couverture (hedging). |\n",
    "| Taux d’intérêt constant | \\( r \\) est fixe | Dans la pratique, les taux fluctuent. |\n",
    "| Sous-jacent suit un GBM | Mouvement brownien géométrique sans sauts | Ne prend pas en compte les chocs brusques de prix. |\n",
    "| Pas de dividendes | Aucune distribution pendant la durée de vie | Il existe des versions étendues pour inclure les dividendes. |\n",
    "\n",
    "## 2.9 -  Remarque\n",
    "Le modèle Black–Scholes reste une **base analytique essentielle**, mais il est souvent ajusté ou remplacé par des modèles plus réalistes (Heston, Variance Gamma, SABR, etc.) pour mieux capturer les dynamiques de volatilité.\n"
   ]
  }
 ],
 "metadata": {
  "language_info": {
   "name": "python"
  }
 },
 "nbformat": 4,
 "nbformat_minor": 5
}
