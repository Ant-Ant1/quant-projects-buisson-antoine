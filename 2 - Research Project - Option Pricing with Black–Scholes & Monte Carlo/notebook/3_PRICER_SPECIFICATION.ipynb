{
 "cells": [
  {
   "cell_type": "markdown",
   "id": "b9ee965c",
   "metadata": {},
   "source": [
    "# III - Notebook : Spécification fonctionnelle des pricers\n",
    "## 3.1 - Objectif\n",
    "- Documenter les règles de conception des deux pricers avant implémentation.\n",
    "Ce notebook fige l’API, les règles de validation et les cas limites\n",
    "pour assurer une implémentation cohérente et reproductible.\n"
   ]
  },
  {
   "cell_type": "markdown",
   "id": "f3086f3f",
   "metadata": {},
   "source": [
    "## 3.2 - Interfaces prévues (API figée)\n",
    "\n",
    "### Black–Scholes (analytique)\n",
    "```python\n",
    "black_scholes_price(S, K, T, r, sigma, option_type)\n"
   ]
  },
  {
   "cell_type": "code",
   "execution_count": null,
   "id": "94e7bfd0",
   "metadata": {},
   "outputs": [],
   "source": [
    "mc_option_price(S, K, T, r, sigma, option_type, n_sims, rng_seed=None, return_std=False)\n"
   ]
  },
  {
   "cell_type": "markdown",
   "id": "97cff150",
   "metadata": {},
   "source": [
    "\n",
    "## 3.3 - Tableau récapitulatif — Fonctions, entrées, sorties et erreurs\n",
    "\n",
    "| Fonction              | Entrées principales                        | Sortie attendue         | Règles / Cas limites principaux                                            | Erreurs à lever                              |\n",
    "|-----------------------|--------------------------------------------|--------------------------|----------------------------------------------------------------------------|----------------------------------------------|\n",
    "| `black_scholes_price` | S, K, T, r, sigma, option_type             | price : float            | T=0 → payoff intrinsèque ; σ=0 → actif déterministe ; contrôle type       | S≤0, K≤0, T<0, σ<0, option_type invalide     |\n",
    "| `mc_option_price`     | S, K, T, r, sigma, option_type, n_sims, rng_seed | price (, std_hat) : float | GBM R-N : drift r ; discount e^{-rT}; T=0 et σ=0 gérés explicitement ; vectorisé | n_sims<1 ; mêmes validations que BS ; type invalide |\n",
    "\n"
   ]
  },
  {
   "cell_type": "markdown",
   "id": "0f0a9126",
   "metadata": {},
   "source": [
    "## 3.4 - Cas limites à gérer\n",
    "\n",
    "| Cas | Black–Scholes | Monte Carlo |\n",
    "|-----|----------------|--------------|\n",
    "| T = 0 | Prix = payoff intrinsèque | Idem |\n",
    "| σ = 0 | Actif déterministe → payoff actualisé (e^{-rT}) | Idem |\n",
    "| Deep ITM/OTM | Convergence vers bornes logiques | Variance faible |\n",
    "| option_type invalide | ValueError clair | ValueError clair |\n",
    "\n",
    "### 3.5 - Règles de validation\n",
    "- `S > 0`, `K > 0`, `T ≥ 0`, `σ ≥ 0`  \n",
    "- `option_type ∈ {call, put}`  \n",
    "- Pour Monte Carlo : `n_sims ≥ 1`  \n",
    "- Messages d’erreur concis :  \n",
    "  - `\"S must be > 0\"`  \n",
    "  - `\"K must be > 0\"`  \n",
    "  - `\"T must be >= 0\"`  \n",
    "  - `\"sigma must be >= 0\"`  \n",
    "  - `\"option_type must be 'call' or 'put'\"`  \n",
    "  - `\"n_sims must be >= 1\"`\n"
   ]
  },
  {
   "cell_type": "markdown",
   "id": "3c771a28",
   "metadata": {},
   "source": [
    "## 3.6 - Plan de validations & tests fonctionnels\n",
    "\n",
    "### 1) Tests “sanity”\n",
    "- Parité put-call : \\(C − P = S − K e^{−rT}\\)\n",
    "- Monotonicités :  \n",
    "  - Call ↑ avec S, σ, T, r  \n",
    "  - Put ↓ avec S, ↑ avec σ, T, ↓ avec r\n",
    "- Bornes :  \n",
    "  - \\(C ≥ \\max(S − K e^{−rT}, 0)\\)  \n",
    "  - \\(P ≥ \\max(K e^{−rT} − S, 0)\\)\n",
    "\n",
    "### 2) Tests cas limites\n",
    "- T=0 → payoff intrinsèque exact.  \n",
    "- σ=0 → prix déterministe (≈ BS).  \n",
    "- Deep ITM / OTM → erreurs proches de 0.\n",
    "\n",
    "### 3) Tests de convergence MC\n",
    "- (S,K,r,σ,T) = (100, 100, 0.05, 0.2, 1)  \n",
    "- n_sims ∈ {10², 10³, 5×10³, 10⁴, 5×10⁴}  \n",
    "- Erreur-type ∝ 1 / √n.\n",
    "\n",
    "### 4) Tests de robustesse\n",
    "- σ ∈ {0.1 → 0.5}, T ∈ {0.25, 0.5, 1.0}  \n",
    "- Comparer erreurs relatives MC vs BS.\n"
   ]
  },
  {
   "cell_type": "markdown",
   "id": "a50f880c",
   "metadata": {},
   "source": [
    "## 3.7 - Definition of Done (DoD)\n",
    "\n",
    "- Interfaces figées et validations actives.  \n",
    "- Cas limites (T=0, σ=0, deep ITM/OTM) gérés.  \n",
    "- Plan de tests défini et cohérent avec les notebooks suivants.  \n",
    "- Aucun code ni figure enregistré.  \n",
    "- Notebook servant de référence technique pour l’implémentation (NB 04).\n"
   ]
  }
 ],
 "metadata": {
  "language_info": {
   "name": "python"
  }
 },
 "nbformat": 4,
 "nbformat_minor": 5
}
