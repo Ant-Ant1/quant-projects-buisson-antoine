{
 "cells": [
  {
   "cell_type": "markdown",
   "id": "0a17c1ae",
   "metadata": {},
   "source": [
    "# 5.0 — Diebold–Mariano Test (GARCH vs EWM)\n",
    "\n",
    "\n"
   ]
  },
  {
   "cell_type": "code",
   "execution_count": null,
   "id": "bf202eba",
   "metadata": {},
   "outputs": [],
   "source": [
    "from pathlib import Path\n",
    "import numpy as np\n",
    "import pandas as pd\n",
    "from scipy.stats import t as student_t\n",
    "\n",
    "IN = Path(\"data/models/garch/garch_forecasts.csv\")\n"
   ]
  },
  {
   "cell_type": "markdown",
   "id": "3f3b6502",
   "metadata": {},
   "source": [
    "### 5.1 Fonction Diebold–Mariano test\n",
    "\n",
    "**Explication :**  \n",
    "1) La fonction `dm_test` compare la précision de deux modèles de prévision en utilisant la statistique de Diebold–Mariano (DM).  \n",
    "2) On calcule la différence des erreurs quadratiques (MSE) entre les deux modèles.  \n",
    "3) On estime la variance avec Newey–West.  \n",
    "4) On applique la correction de Harvey pour les petits échantillons.  \n",
    "5) La fonction retourne la statistique DM ajustée et la p-value associée.  \n",
    "\n",
    "**Pourquoi nous avons fait cela :**  \n",
    "1) Le test de Diebold–Mariano est la référence pour comparer statistiquement les performances de deux modèles de prévision.  \n",
    "2) Il permet de déterminer si les différences observées en termes d’erreur de prévision sont significatives ou simplement dues au hasard.  \n"
   ]
  },
  {
   "cell_type": "code",
   "execution_count": null,
   "id": "20700baf",
   "metadata": {},
   "outputs": [],
   "source": [
    "def dm_test(e1, e2, h=1):\n",
    "    \"\"\"Diebold-Mariano test (Harvey et al., small-sample correction) sur MSE.\"\"\"\n",
    "    d = (e1**2 - e2**2)  \n",
    "    T = len(d)\n",
    "    dbar = d.mean()\n",
    "    s2 = d.var(ddof=1)\n",
    "    DM = dbar / np.sqrt(s2 / T)\n",
    "    k = ((T + 1 - 2*h + h*(h-1)/T) ** 0.5)\n",
    "    DM_adj = DM * (T / (T - 1)) ** 0.5 * k\n",
    "    p = 2 * (1 - student_t.cdf(abs(DM_adj), df=T-1))\n",
    "    return DM_adj, p\n"
   ]
  },
  {
   "cell_type": "markdown",
   "id": "8c0e33cd",
   "metadata": {},
   "source": [
    "### 5.2 Fonction principale : comparaison GARCH vs EWM avec le test DM\n",
    "\n",
    "**Explication :**  \n",
    "1) On charge les données depuis un fichier CSV.  \n",
    "2) On définit les erreurs de prévision des modèles GARCH et EWM par rapport à la volatilité réalisée.  \n",
    "3) On applique le test de Diebold–Mariano pour comparer statistiquement la précision des deux modèles.  \n",
    "4) On affiche la statistique DM, la p-value et le modèle qui est significativement meilleur si p < 0.05.  \n",
    "\n",
    "**Pourquoi nous avons fait cela :**  \n",
    "1) Cela permet de tester objectivement si GARCH apporte une amélioration par rapport à EWM en termes de précision de prévision.  \n",
    "2) L’interprétation statistique (p-value) garantit que la conclusion n’est pas due au hasard mais validée par un test reconnu en économétrie.  \n"
   ]
  },
  {
   "cell_type": "code",
   "execution_count": 3,
   "id": "0ecb4041",
   "metadata": {},
   "outputs": [],
   "source": [
    "def main():\n",
    "    df = pd.read_csv(IN, parse_dates=[\"date\"])\n",
    "    y = df[\"vol_real\"].values\n",
    "    g = df[\"vol_garch\"].values\n",
    "    e = df[\"vol_ewm\"].values\n",
    "\n",
    "    e1 = g - y\n",
    "    e2 = e - y\n",
    "\n",
    "    stat, p = dm_test(e1, e2, h=1)\n",
    "    print(\"Diebold-Mariano (MSE) GARCH vs EWM\")\n",
    "    print(\"  DM stat =\", round(float(stat), 3), \"| p-value =\", round(float(p), 4))\n",
    "    if p < 0.05:\n",
    "        better = \"GARCH\" if np.mean(e1**2) < np.mean(e2**2) else \"EWM\"\n",
    "        print(f\"  ⇒ Différence significative. Meilleur: {better}.\")\n",
    "    else:\n",
    "        print(\"  ⇒ Pas de différence significative au seuil 5%.\")\n",
    "    "
   ]
  },
  {
   "cell_type": "code",
   "execution_count": 4,
   "id": "9e19f2e9",
   "metadata": {},
   "outputs": [
    {
     "name": "stdout",
     "output_type": "stream",
     "text": [
      "Diebold-Mariano (MSE) GARCH vs EWM\n",
      "  DM stat = 1255.828 | p-value = 0.0\n",
      "  ⇒ Différence significative. Meilleur: EWM.\n"
     ]
    }
   ],
   "source": [
    "if __name__ == \"__main__\":\n",
    "    main()\n"
   ]
  }
 ],
 "metadata": {
  "kernelspec": {
   "display_name": ".venv",
   "language": "python",
   "name": "python3"
  },
  "language_info": {
   "codemirror_mode": {
    "name": "ipython",
    "version": 3
   },
   "file_extension": ".py",
   "mimetype": "text/x-python",
   "name": "python",
   "nbconvert_exporter": "python",
   "pygments_lexer": "ipython3",
   "version": "3.12.10"
  }
 },
 "nbformat": 4,
 "nbformat_minor": 5
}
