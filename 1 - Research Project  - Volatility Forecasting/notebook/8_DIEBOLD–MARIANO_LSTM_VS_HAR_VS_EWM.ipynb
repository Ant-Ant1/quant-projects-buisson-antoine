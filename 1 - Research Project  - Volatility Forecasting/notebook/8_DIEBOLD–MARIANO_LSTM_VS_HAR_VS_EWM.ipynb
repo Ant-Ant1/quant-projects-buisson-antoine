{
 "cells": [
  {
   "cell_type": "markdown",
   "id": "612b1fea",
   "metadata": {},
   "source": [
    "# 8.0 — Diebold–Mariano : LSTM vs HAR vs EWM\n",
    "\n",
    "**But :** comparer les prévisions LSTM et HAR-RV à l’EWM via le test Diebold–Mariano (MSE).\n"
   ]
  },
  {
   "cell_type": "code",
   "execution_count": 1,
   "id": "056dd441",
   "metadata": {},
   "outputs": [],
   "source": [
    "from pathlib import Path\n",
    "import numpy as np, pandas as pd\n",
    "from scipy.stats import norm\n",
    "\n",
    "LSTM_DIR = Path(\"data/models/lstm\")\n",
    "HAR_DIR  = Path(\"data/models/har_rv\")\n"
   ]
  },
  {
   "cell_type": "markdown",
   "id": "b46fe661",
   "metadata": {},
   "source": [
    "### 8.1 Fonction \"dm_mse\"\n",
    "\n",
    "**Explication :**\n",
    "1) On calcule la différence des erreurs quadratiques entre deux modèles (\"p1\" et \"p2\") par rapport à la série réelle \"y\".  \n",
    "2) On normalise cette différence pour obtenir la statistique de test de Diebold–Mariano (DM).  \n",
    "3) On calcule la p-value associée avec une loi normale centrée réduite.  \n",
    "\n",
    "**Pourquoi nous avons fait cela :**\n",
    "1) Le test de Diebold–Mariano permet de comparer objectivement deux modèles de prévision sur leurs erreurs (ici via la MSE).  \n",
    "2) Cela nous permet de savoir si un modèle apporte une amélioration significative par rapport à un autre.  \n"
   ]
  },
  {
   "cell_type": "code",
   "execution_count": 2,
   "id": "046d4d11",
   "metadata": {},
   "outputs": [],
   "source": [
    "def dm_mse(y, p1, p2):\n",
    "    d = (y - p1)**2 - (y - p2)**2\n",
    "    dm = d.mean() / (d.std(ddof=1)/np.sqrt(len(d)))\n",
    "    p  = 2*(1 - norm.cdf(abs(dm)))\n",
    "    return float(dm), float(p)\n"
   ]
  },
  {
   "cell_type": "markdown",
   "id": "e03b7eff",
   "metadata": {},
   "source": [
    "### 8.2 Fonction \"run\"\n",
    "\n",
    "**Explication :**\n",
    "1) On charge les résultats du modèle LSTM et HAR-RV depuis leurs fichiers CSV.  \n",
    "2) On fusionne les deux DataFrames sur la colonne \"date\" pour aligner les prédictions.  \n",
    "3) On extrait les vraies valeurs (y_true), les prévisions EWM, LSTM et HAR.  \n",
    "4) On applique le test de Diebold–Mariano pour comparer :  \n",
    "   - HAR vs EWM  \n",
    "   - LSTM vs EWM  \n",
    "   - LSTM vs HAR  \n",
    "\n",
    "**Pourquoi nous avons fait cela :**\n",
    "1) Cela permet de tester statistiquement si LSTM ou HAR sont significativement meilleurs que le benchmark EWM.  \n",
    "2) La comparaison LSTM vs HAR permet d’évaluer si l’apprentissage profond apporte un gain par rapport à un modèle économétrique classique.  \n"
   ]
  },
  {
   "cell_type": "code",
   "execution_count": null,
   "id": "010f777c",
   "metadata": {},
   "outputs": [],
   "source": [
    "def run(target_key, lstm_file, har_file):\n",
    "    lstm = pd.read_csv(LSTM_DIR / f\"{lstm_file}_test.csv\", parse_dates=[\"date\"])\n",
    "    har  = pd.read_csv(HAR_DIR  / f\"{har_file}.csv\", parse_dates=[\"date\"])\n",
    "    df = lstm.merge(har[[\"date\",\"y_pred_har\"]], on=\"date\", how=\"inner\")\n",
    "    y, ewm, lstm_pred, har_pred = df[\"y_true\"].values, df[\"y_ewm\"].values, df[\"y_lstm\"].values, df[\"y_pred_har\"].values\n",
    "    print(f\"\\n== {target_key} ==\")\n",
    "    for a_name, a in [(\"HAR\",har_pred), (\"LSTM\",lstm_pred)]:\n",
    "        dm, p = dm_mse(y, a, ewm)\n",
    "        print(f\"DM (MSE): {a_name} vs EWM → stat={dm:.3f}, p={p:.4g}\")\n",
    "    dm_lh, p_lh = dm_mse(y, lstm_pred, har_pred)\n",
    "    print(f\"DM (MSE): LSTM vs HAR → stat={dm_lh:.3f}, p={p_lh:.4g}\")\n",
    "\n",
    "\n"
   ]
  },
  {
   "cell_type": "markdown",
   "id": "d5ffaa14",
   "metadata": {},
   "source": [
    "### 8.2 Fonction \"run\"\n",
    "\n",
    "**Résultat pour sigma 1:**\n",
    "- HAR est significativement meilleur que EWM.\n",
    "- Aucune différence significative, LSTM n’apporte pas de gain clair sur EWM.\n",
    "- Pas de différence significative entre LSTM et HAR → mais HAR est celui qui bat clairement EWM.\n",
    "    - Conclusion : HAR domine EWM, LSTM ne fait pas mieux.\n",
    "\n",
    "**Résultat pour vol5:**\n",
    "- Aucune différence significative, HAR = EWM.\n",
    "- LSTM est significativement meilleur que EWM.\n",
    "- LSTM est significativement meilleur que HAR.\n",
    "    - Conclusion : LSTM est supérieur à la fois à HAR et EWM pour vol5f."
   ]
  },
  {
   "cell_type": "code",
   "execution_count": null,
   "id": "65d01924",
   "metadata": {},
   "outputs": [
    {
     "name": "stdout",
     "output_type": "stream",
     "text": [
      "\n",
      "== sigma1 ==\n",
      "DM (MSE): HAR vs EWM → stat=-3.533, p=0.0004116\n",
      "DM (MSE): LSTM vs EWM → stat=-1.009, p=0.3128\n",
      "DM (MSE): LSTM vs HAR → stat=1.336, p=0.1815\n",
      "\n",
      "== vol5f ==\n",
      "DM (MSE): HAR vs EWM → stat=-0.123, p=0.9018\n",
      "DM (MSE): LSTM vs EWM → stat=-4.248, p=2.153e-05\n",
      "DM (MSE): LSTM vs HAR → stat=-4.289, p=1.796e-05\n"
     ]
    }
   ],
   "source": [
    "if __name__ == \"__main__\":\n",
    "    run(\"sigma1\", \"lstm_target_sigma1_enriched_log\", \"har_sigma1_test\")\n",
    "    run(\"vol5f\", \"lstm_target_vol5f_enriched_log\",   \"har_vol5f_test\")\n"
   ]
  }
 ],
 "metadata": {
  "kernelspec": {
   "display_name": ".venv",
   "language": "python",
   "name": "python3"
  },
  "language_info": {
   "codemirror_mode": {
    "name": "ipython",
    "version": 3
   },
   "file_extension": ".py",
   "mimetype": "text/x-python",
   "name": "python",
   "nbconvert_exporter": "python",
   "pygments_lexer": "ipython3",
   "version": "3.12.10"
  }
 },
 "nbformat": 4,
 "nbformat_minor": 5
}
